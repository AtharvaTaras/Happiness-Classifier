{
 "cells": [
  {
   "cell_type": "code",
   "execution_count": 1,
   "id": "b39198c0",
   "metadata": {},
   "outputs": [],
   "source": [
    "import joblib\n",
    "import warnings\n",
    "warnings.filterwarnings(\"ignore\", category=DeprecationWarning)"
   ]
  },
  {
   "cell_type": "code",
   "execution_count": 2,
   "id": "beddcbb3",
   "metadata": {},
   "outputs": [
    {
     "data": {
      "text/plain": [
       "sklearn.linear_model._logistic.LogisticRegression"
      ]
     },
     "execution_count": 2,
     "metadata": {},
     "output_type": "execute_result"
    }
   ],
   "source": [
    "model = joblib.load('Logistic_Reg_Model_v1.2')\n",
    "type(model)"
   ]
  },
  {
   "cell_type": "code",
   "execution_count": 3,
   "id": "9caed8b0",
   "metadata": {},
   "outputs": [
    {
     "name": "stdout",
     "output_type": "stream",
     "text": [
      "---------------------------------------------\n",
      "ON A SCALE OF 1 TO 5, RATE THE FOLLOWING PARAMETERS - \n",
      "\n",
      "THE AVAILABILITY OF INFORMATION ABOUT THE CITY SERVICES 4\n",
      "THE COST OF HOUSING 5\n",
      "THE OVERALL QUALITY OF PUBLIC SCHOOLS 3\n",
      "YOUR TRUST IN THE LOCAL POLICE 5\n",
      "THE MAINTENANCE OF STREETS AND SIDEWALKS 5\n",
      "THE AVAILABILITY OF SOCIAL COMMUNITY EVENTS 4\n",
      "\n",
      " The person is happy. \n",
      "\n"
     ]
    },
    {
     "name": "stderr",
     "output_type": "stream",
     "text": [
      "A:\\Applications\\Anaconda\\lib\\site-packages\\sklearn\\base.py:409: UserWarning: X does not have valid feature names, but LogisticRegression was fitted with feature names\n",
      "  warnings.warn(\n"
     ]
    }
   ],
   "source": [
    "print('---------------------------------------------\\nOn a scale of 1 to 5, rate the following parameters - \\n'.upper())\n",
    "\n",
    "infoavail = int(input('the availability of information about the city services '.upper()))\n",
    "housecost = int(input('the cost of housing '.upper()))\n",
    "schoolquality = int(input('the overall quality of public schools '.upper()))\n",
    "policetrust = int(input('the trust in the local police '.upper()))\n",
    "streetquality = int(input('the maintenance of streets and sidewalks '.upper()))\n",
    "events = int(input('the availability of social community events '.upper()))\n",
    "\n",
    "out = model.predict([[infoavail, housecost, schoolquality, policetrust, streetquality, events]])\n",
    "print('\\n The person is happy. \\n' if out==1 else '\\n The person is not happy. \\n')"
   ]
  }
 ],
 "metadata": {
  "kernelspec": {
   "display_name": "Python 3 (ipykernel)",
   "language": "python",
   "name": "python3"
  },
  "language_info": {
   "codemirror_mode": {
    "name": "ipython",
    "version": 3
   },
   "file_extension": ".py",
   "mimetype": "text/x-python",
   "name": "python",
   "nbconvert_exporter": "python",
   "pygments_lexer": "ipython3",
   "version": "3.8.5"
  }
 },
 "nbformat": 4,
 "nbformat_minor": 5
}
